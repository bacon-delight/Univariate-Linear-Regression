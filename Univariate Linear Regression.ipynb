{
 "cells": [
  {
   "cell_type": "markdown",
   "metadata": {},
   "source": [
    "# Univariate Linear Regression"
   ]
  },
  {
   "cell_type": "markdown",
   "metadata": {},
   "source": [
    "In this iPython notebook, I'm going to create an Univariate Linear Regression model without using any scikit-learn or other libraries. The objective is to understand better what these libraries actually does under the hood and get a better intuition into how we can actually make these algorithms perform better. Before we begin, I'd like to take a moment and introduce a few notations that we're going to use throughout this notebook.\n",
    "\n",
    "**Notations:**\n",
    "- $m$ = Numner of Training Examples\n",
    "- $X$ = Input Variables\n",
    "- $y$ = Output Variables\n",
    "- $(x^{(i)},y^{(i)})$ = $i^{th}$ Training Example\n",
    "\n",
    "Now let's get started and I'll explain the rest on the way as we proceed with this notebook"
   ]
  },
  {
   "cell_type": "code",
   "execution_count": 1,
   "metadata": {},
   "outputs": [],
   "source": [
    "# Importing Necessary Libraries\n",
    "import numpy as np\n",
    "import pandas as pd\n",
    "import matplotlib.pyplot as plt"
   ]
  },
  {
   "cell_type": "markdown",
   "metadata": {},
   "source": [
    "The above libraries are some bare minimum which I had to import to make this notebook somewhat concise and not ending up covering a lot of stuff which might turn out to be irrelevant for the purpose of this notebook. Also, these libraries are proven to be fast and I would not have to worry too much on things like writing a function for matrix multiplication which might turn out to have a huge time complexity."
   ]
  },
  {
   "cell_type": "code",
   "execution_count": 2,
   "metadata": {},
   "outputs": [],
   "source": [
    "# Okay, enough talk nor now, let's start by importing our dataset\n",
    "# (This dataset is from one of the Octave excercises from Andrew Ng's tutorial on Machine Learning)\n",
    "data = pd.read_csv(\"./data.txt\", sep=\",\", names=[\"Population in 10k\", \"Profit in $10k\"])"
   ]
  },
  {
   "cell_type": "code",
   "execution_count": 3,
   "metadata": {},
   "outputs": [
    {
     "data": {
      "text/html": [
       "<div>\n",
       "<style scoped>\n",
       "    .dataframe tbody tr th:only-of-type {\n",
       "        vertical-align: middle;\n",
       "    }\n",
       "\n",
       "    .dataframe tbody tr th {\n",
       "        vertical-align: top;\n",
       "    }\n",
       "\n",
       "    .dataframe thead th {\n",
       "        text-align: right;\n",
       "    }\n",
       "</style>\n",
       "<table border=\"1\" class=\"dataframe\">\n",
       "  <thead>\n",
       "    <tr style=\"text-align: right;\">\n",
       "      <th></th>\n",
       "      <th>Population in 10k</th>\n",
       "      <th>Profit in $10k</th>\n",
       "    </tr>\n",
       "  </thead>\n",
       "  <tbody>\n",
       "    <tr>\n",
       "      <th>0</th>\n",
       "      <td>6.1101</td>\n",
       "      <td>17.5920</td>\n",
       "    </tr>\n",
       "    <tr>\n",
       "      <th>1</th>\n",
       "      <td>5.5277</td>\n",
       "      <td>9.1302</td>\n",
       "    </tr>\n",
       "    <tr>\n",
       "      <th>2</th>\n",
       "      <td>8.5186</td>\n",
       "      <td>13.6620</td>\n",
       "    </tr>\n",
       "    <tr>\n",
       "      <th>3</th>\n",
       "      <td>7.0032</td>\n",
       "      <td>11.8540</td>\n",
       "    </tr>\n",
       "    <tr>\n",
       "      <th>4</th>\n",
       "      <td>5.8598</td>\n",
       "      <td>6.8233</td>\n",
       "    </tr>\n",
       "  </tbody>\n",
       "</table>\n",
       "</div>"
      ],
      "text/plain": [
       "   Population in 10k  Profit in $10k\n",
       "0             6.1101         17.5920\n",
       "1             5.5277          9.1302\n",
       "2             8.5186         13.6620\n",
       "3             7.0032         11.8540\n",
       "4             5.8598          6.8233"
      ]
     },
     "execution_count": 3,
     "metadata": {},
     "output_type": "execute_result"
    }
   ],
   "source": [
    "# Taking a look at the imported data\n",
    "data.head(5)"
   ]
  },
  {
   "cell_type": "code",
   "execution_count": 4,
   "metadata": {},
   "outputs": [],
   "source": [
    "# Splitting columns from our dataset\n",
    "X = data['Population in 10k']\n",
    "y = data['Profit in $10k']"
   ]
  },
  {
   "cell_type": "code",
   "execution_count": 5,
   "metadata": {},
   "outputs": [
    {
     "data": {
      "image/png": "[encoded data removed]",
      "text/plain": [
       "<Figure size 432x288 with 1 Axes>"
      ]
     },
     "metadata": {
      "needs_background": "light"
     },
     "output_type": "display_data"
    }
   ],
   "source": [
    "# Now I wanna plot and see how the dataset looks like\n",
    "# I'm reducing the marker size a bit, so that the individual points close by don't overlap each other\n",
    "plt.scatter(X, y, s=10, alpha=0.5)\n",
    "plt.title('Scatter Plot of the Dataset')\n",
    "plt.xlabel('Population in 10k')\n",
    "plt.ylabel('Profit in $10k')\n",
    "plt.show()"
   ]
  },
  {
   "cell_type": "code",
   "execution_count": 6,
   "metadata": {},
   "outputs": [
    {
     "data": {
      "text/plain": [
       "(97,)"
      ]
     },
     "execution_count": 6,
     "metadata": {},
     "output_type": "execute_result"
    }
   ],
   "source": [
    "# Now I want to convert 'X' into a single column numpy array\n",
    "X = np.array(X)\n",
    "X.shape"
   ]
  },
  {
   "cell_type": "markdown",
   "metadata": {},
   "source": [
    "Few more notations I'm using here:\n",
    "- $R$ = Number of Rows\n",
    "- $C$ = Number of Columns\n",
    "\n",
    "As you can see above, the shape turned out to be a vector instead of a RxC matrix or 2D array. If you're not familiar with numpy, or new to numpy array indexing, let me try to elaborate a bit.\n",
    "\n",
    "##### Shape: (R,)\n",
    "Here the array is basically single indexed. For example, consider the following example of an array of 8 numbers:\n",
    "\n",
    "| Data  | 9 | 1 | 5 | 3 | 7 | 3 | 2 | 5 |\n",
    "| ----- | - | - | - | - | - | - | - | - |\n",
    "| Index | 0 | 1 | 2 | 3 | 4 | 5 | 6 | 7 |\n",
    "\n",
    "##### Shape: (R,C)\n",
    "We want to have a 2D indexing in our array which will basically be a single column matrix (a number of rows with only one column):\n",
    "\n",
    "| Data      | 9 | 1 | 5 | 3 | 7 | 3 | 2 | 5 |\n",
    "| --------- | - | - | - | - | - | - | - | - |\n",
    "| Index (i) | 0 | 1 | 2 | 3 | 4 | 5 | 6 | 7 |\n",
    "| Index (j) | 0 | 0 | 0 | 0 | 0 | 0 | 0 | 0 |\n",
    "\n",
    "**TL;DR:** `array.shape` basically returns the number of rows (R) vs the number of columns (R) in the array/matrix"
   ]
  },
  {
   "cell_type": "code",
   "execution_count": 7,
   "metadata": {},
   "outputs": [
    {
     "data": {
      "text/plain": [
       "(97, 1)"
      ]
     },
     "execution_count": 7,
     "metadata": {},
     "output_type": "execute_result"
    }
   ],
   "source": [
    "# Reshaping our numpy array\n",
    "m = y.size\n",
    "X = X.reshape(m,1)\n",
    "X.shape"
   ]
  },
  {
   "cell_type": "markdown",
   "metadata": {},
   "source": [
    "### Hypothesis\n",
    "Before we proceed further, it's important to understand what hypothesis is. It is a straight line fit through our dataset, which tries to map the input features (X) to output variables (y).\n",
    "\n",
    "\\begin{align}\n",
    "h_\\theta(x) = \\theta _0 + \\theta _1 x\n",
    "\\end{align}\n",
    "\n",
    "**Notations:**\n",
    "- $h$ = Hypothesis\n",
    "- $\\theta_0$ & $\\theta_1$ = Parameters\n",
    "\n",
    "> A good hypothesis fits the evidence and can be used to make predictions about new observations or new situations."
   ]
  },
  {
   "cell_type": "code",
   "execution_count": 8,
   "metadata": {},
   "outputs": [
    {
     "data": {
      "text/plain": [
       "(97, 2)"
      ]
     },
     "execution_count": 8,
     "metadata": {},
     "output_type": "execute_result"
    }
   ],
   "source": [
    "# Now I want to add a column of 1's to the 0th index of 'X' (Explanation Below)\n",
    "# Also shift the existing data in the 0th index to the 1st index\n",
    "X = np.append(np.ones((m, 1), dtype=int), X, axis=1)\n",
    "X.shape"
   ]
  },
  {
   "cell_type": "markdown",
   "metadata": {},
   "source": [
    "I did the above to take into account the intercept term $\\theta_0$. I added an extra column of 1's to the matrix 'X', so that I can treat $\\theta_0$ as another feature. For this, I needed to place the new column in the 0th column index and shift the existing column of data from 0th to 1st index. Now the shape of the matrix will be (R,2)."
   ]
  },
  {
   "cell_type": "code",
   "execution_count": 9,
   "metadata": {},
   "outputs": [
    {
     "data": {
      "text/plain": [
       "(2, 1)"
      ]
     },
     "execution_count": 9,
     "metadata": {},
     "output_type": "execute_result"
    }
   ],
   "source": [
    "# Let's initialize Theta as a 2x1 null array\n",
    "theta = np.zeros((2,1), dtype=float)\n",
    "theta.shape"
   ]
  },
  {
   "cell_type": "markdown",
   "metadata": {},
   "source": [
    "### Cost Function & Gradient Descent\n",
    "Gradient Descent attempts to find the local or global optima of a function. We succeed in training a model when the Cost Function reaches the global optimum.\n",
    "\n",
    "\\begin{align}\n",
    "J(\\theta_0, \\theta_1) = \\frac{1}{2m} \\sum^m_{i=1} (h_\\theta(x^{(i)})-y^{(i)})^2\n",
    "\\end{align}\n",
    "\n",
    "> A model learns by minimizing the Cost Function using Gradient Descent\n",
    "\n",
    "**Algorithm:**  \n",
    "{\n",
    "$$\n",
    "\\theta_j := \\theta_j - \\alpha \\frac{\\partial}{\\partial\\theta_j} J(\\theta_0, \\theta_1)\n",
    "$$\n",
    "}\n",
    "\n",
    "Simultaneously update $\\theta_1$ and $\\theta_2$,  \n",
    "$temp0 := \\theta_0 - \\alpha \\frac{\\partial}{\\partial \\theta_0} J(\\theta_0, \\theta_1)$  \n",
    "$temp1 := \\theta_1 - \\alpha \\frac{\\partial}{\\partial \\theta_1} J(\\theta_0, \\theta_1)$  \n",
    "$\\theta_0 := temp0$  \n",
    "$\\theta_1 := temp1$\n",
    "\n",
    "**Notation:**\n",
    "- $\\alpha$ = Learning Rate"
   ]
  },
  {
   "cell_type": "code",
   "execution_count": 10,
   "metadata": {},
   "outputs": [],
   "source": [
    "# Function for Computing Cost Function\n",
    "def costFunction(theta):\n",
    "    J_sum = 0\n",
    "    for i in range(m):\n",
    "        J_sum += ((theta[0] + theta[1] * X[i][1]) - y[i])**2\n",
    "    J = (1/(2*m)) * J_sum\n",
    "    return J"
   ]
  },
  {
   "cell_type": "code",
   "execution_count": 11,
   "metadata": {},
   "outputs": [
    {
     "data": {
      "text/plain": [
       "array([32.07273388])"
      ]
     },
     "execution_count": 11,
     "metadata": {},
     "output_type": "execute_result"
    }
   ],
   "source": [
    "# Let's see the cost when theta is 0\n",
    "costFunction(theta)"
   ]
  },
  {
   "cell_type": "code",
   "execution_count": 12,
   "metadata": {},
   "outputs": [],
   "source": [
    "# Function for Running Gradient Descent\n",
    "def gradientDescent(theta, iterations, alpha):\n",
    "    J_history = np.zeros((iterations,1), dtype=float)\n",
    "    for i in range(iterations):\n",
    "        t1 = 0\n",
    "        t2 = 0\n",
    "        for k in range(m):\n",
    "            t1 = t1 + ((theta[0] + theta[1]*X[k][1]) - y[k])\n",
    "            t2 = t2 + ((theta[0] + theta[1]*X[k][1]) - y[k])*X[k][1]\n",
    "        theta[0] = theta[0] - (alpha/m)*t1\n",
    "        theta[1] = theta[1] - (alpha/m)*t2\n",
    "        J_history[i] = costFunction(theta)\n",
    "    return theta"
   ]
  },
  {
   "cell_type": "code",
   "execution_count": 13,
   "metadata": {},
   "outputs": [],
   "source": [
    "# Now let's actually run the gradient descent\n",
    "iterations = 1500\n",
    "alpha = 0.01\n",
    "theta = gradientDescent(theta, iterations, alpha)"
   ]
  },
  {
   "cell_type": "code",
   "execution_count": 14,
   "metadata": {},
   "outputs": [
    {
     "name": "stdout",
     "output_type": "stream",
     "text": [
      "Theta 0:  [-3.63029144]\n",
      "Theta 1:  [1.16636235]\n"
     ]
    }
   ],
   "source": [
    "# Let's see what values of theta we got\n",
    "print(\"Theta 0: \", theta[0])\n",
    "print(\"Theta 1: \", theta[1])"
   ]
  },
  {
   "cell_type": "code",
   "execution_count": 15,
   "metadata": {},
   "outputs": [
    {
     "data": {
      "image/png": "[encoded data removed]",
      "text/plain": [
       "<Figure size 432x288 with 1 Axes>"
      ]
     },
     "metadata": {
      "needs_background": "light"
     },
     "output_type": "display_data"
    }
   ],
   "source": [
    "# Plotting the linear fit\n",
    "plt.plot(X[:,1], np.dot(X, theta))\n",
    "plt.scatter(X[:,1], y, s=10, alpha=0.5)\n",
    "plt.title('Linear Fit through the Dataset')\n",
    "plt.xlabel('Population in 10k')\n",
    "plt.ylabel('Profit in $10k')\n",
    "plt.show()"
   ]
  },
  {
   "cell_type": "code",
   "execution_count": 16,
   "metadata": {},
   "outputs": [],
   "source": [
    "# Now let's see how our model performs on new data (Let's initialize a few random ones)\n",
    "new_data_population = np.array([7.2, 18, 24, 13, 26])\n",
    "new_data = new_data_population.reshape(5,1)\n",
    "new_data = np.append(np.ones((5, 1), dtype=int), new_data, axis=1)"
   ]
  },
  {
   "cell_type": "code",
   "execution_count": 17,
   "metadata": {},
   "outputs": [
    {
     "name": "stdout",
     "output_type": "stream",
     "text": [
      "Predicted Value of profit for  7.2  population (10k) : $ 4.767517483011831  (10k)\n",
      "Predicted Value of profit for  18.0  population (10k) : $ 17.364230866636117  (10k)\n",
      "Predicted Value of profit for  24.0  population (10k) : $ 24.362404968649606  (10k)\n",
      "Predicted Value of profit for  13.0  population (10k) : $ 11.532419114958206  (10k)\n",
      "Predicted Value of profit for  26.0  population (10k) : $ 26.69512966932077  (10k)\n"
     ]
    }
   ],
   "source": [
    "# Predicting the Results\n",
    "predictions = np.zeros((5,1), dtype=float)\n",
    "for i in range(5):\n",
    "    predictions[i][0] = abs(np.dot(new_data[i][:], theta))\n",
    "    print(\"Predicted Value of profit for \", new_data_population[i], \" population (10k) : $\", predictions[i][0], \" (10k)\")"
   ]
  },
  {
   "cell_type": "code",
   "execution_count": 18,
   "metadata": {},
   "outputs": [
    {
     "data": {
      "image/png": "[encoded data removed]",
      "text/plain": [
       "<Figure size 432x288 with 1 Axes>"
      ]
     },
     "metadata": {
      "needs_background": "light"
     },
     "output_type": "display_data"
    }
   ],
   "source": [
    "# Plotting the results\n",
    "plt.plot(X[:,1], np.dot(X, theta))\n",
    "plt.scatter(X[:,1], y, s=10, alpha=0.5, color='c')\n",
    "plt.scatter(new_data_population, predictions, s=150, alpha=0.5, color='r', marker='x')\n",
    "plt.title('Predicted Results over Existing Dataset')\n",
    "plt.xlabel('Population in 10k')\n",
    "plt.ylabel('Profit in $10k')\n",
    "plt.show()"
   ]
  },
  {
   "cell_type": "markdown",
   "metadata": {},
   "source": [
    "So that's it. Our univariate linear regression model works and it was able to predict the profits for some random populations. Now we can go ahead and create a similar linear regression model for datasets with multiple features, also known as **Multivariate Linear Regression**. But that's going to be another notebook soon."
   ]
  }
 ],
 "metadata": {
  "kernelspec": {
   "display_name": "Python 3",
   "language": "python",
   "name": "python3"
  },
  "language_info": {
   "codemirror_mode": {
    "name": "ipython",
    "version": 3
   },
   "file_extension": ".py",
   "mimetype": "text/x-python",
   "name": "python",
   "nbconvert_exporter": "python",
   "pygments_lexer": "ipython3",
   "version": "3.7.3"
  }
 },
 "nbformat": 4,
 "nbformat_minor": 2
}
